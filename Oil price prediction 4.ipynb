{
 "cells": [
  {
   "cell_type": "code",
   "execution_count": 1,
   "id": "743a8525",
   "metadata": {},
   "outputs": [],
   "source": [
    "import pandas as pd\n",
    "import seaborn as sns\n",
    "import matplotlib.pyplot as plt\n",
    "from sklearn.model_selection import train_test_split\n",
    "from sklearn.preprocessing import StandardScaler\n",
    "from sklearn.linear_model import LinearRegression\n",
    "import numpy as np\n",
    "from sklearn.metrics import r2_score"
   ]
  },
  {
   "cell_type": "code",
   "execution_count": 2,
   "id": "d5fd7b86",
   "metadata": {},
   "outputs": [],
   "source": [
    "df=pd.read_csv(r'G:\\DATA_SCIENCE\\EDA\\Dataset\\ongc oil and energy\\train_data.csv')"
   ]
  },
  {
   "cell_type": "code",
   "execution_count": 3,
   "id": "8b77e021",
   "metadata": {},
   "outputs": [
    {
     "data": {
      "text/plain": [
       "Date            0\n",
       "Petrol (USD)    2\n",
       "dtype: int64"
      ]
     },
     "execution_count": 3,
     "metadata": {},
     "output_type": "execute_result"
    }
   ],
   "source": [
    "df.isnull().sum()"
   ]
  },
  {
   "cell_type": "code",
   "execution_count": 4,
   "id": "67167720",
   "metadata": {},
   "outputs": [
    {
     "data": {
      "text/html": [
       "<div>\n",
       "<style scoped>\n",
       "    .dataframe tbody tr th:only-of-type {\n",
       "        vertical-align: middle;\n",
       "    }\n",
       "\n",
       "    .dataframe tbody tr th {\n",
       "        vertical-align: top;\n",
       "    }\n",
       "\n",
       "    .dataframe thead th {\n",
       "        text-align: right;\n",
       "    }\n",
       "</style>\n",
       "<table border=\"1\" class=\"dataframe\">\n",
       "  <thead>\n",
       "    <tr style=\"text-align: right;\">\n",
       "      <th></th>\n",
       "      <th>Date</th>\n",
       "      <th>Petrol (USD)</th>\n",
       "    </tr>\n",
       "  </thead>\n",
       "  <tbody>\n",
       "    <tr>\n",
       "      <th>0</th>\n",
       "      <td>6/9/2003</td>\n",
       "      <td>74.59</td>\n",
       "    </tr>\n",
       "    <tr>\n",
       "      <th>1</th>\n",
       "      <td>6/16/2003</td>\n",
       "      <td>74.47</td>\n",
       "    </tr>\n",
       "    <tr>\n",
       "      <th>2</th>\n",
       "      <td>6/23/2003</td>\n",
       "      <td>74.42</td>\n",
       "    </tr>\n",
       "    <tr>\n",
       "      <th>3</th>\n",
       "      <td>6/30/2003</td>\n",
       "      <td>74.35</td>\n",
       "    </tr>\n",
       "    <tr>\n",
       "      <th>4</th>\n",
       "      <td>7/7/2003</td>\n",
       "      <td>74.28</td>\n",
       "    </tr>\n",
       "  </tbody>\n",
       "</table>\n",
       "</div>"
      ],
      "text/plain": [
       "        Date  Petrol (USD)\n",
       "0   6/9/2003         74.59\n",
       "1  6/16/2003         74.47\n",
       "2  6/23/2003         74.42\n",
       "3  6/30/2003         74.35\n",
       "4   7/7/2003         74.28"
      ]
     },
     "execution_count": 4,
     "metadata": {},
     "output_type": "execute_result"
    }
   ],
   "source": [
    "df=df.dropna()\n",
    "df.head()"
   ]
  },
  {
   "cell_type": "code",
   "execution_count": 5,
   "id": "31a53e5f",
   "metadata": {},
   "outputs": [],
   "source": [
    "df['Date']=df['Date'].astype('datetime64')"
   ]
  },
  {
   "cell_type": "code",
   "execution_count": 6,
   "id": "7573d8a5",
   "metadata": {},
   "outputs": [],
   "source": [
    "df.drop(df[df['Petrol (USD)']>140].index,inplace=True)"
   ]
  },
  {
   "cell_type": "code",
   "execution_count": 7,
   "id": "b37830f5",
   "metadata": {},
   "outputs": [
    {
     "name": "stderr",
     "output_type": "stream",
     "text": [
      "C:\\Users\\RANJEET\\anaconda3\\lib\\site-packages\\seaborn\\_decorators.py:36: FutureWarning: Pass the following variable as a keyword arg: x. From version 0.12, the only valid positional argument will be `data`, and passing other arguments without an explicit keyword will result in an error or misinterpretation.\n",
      "  warnings.warn(\n"
     ]
    },
    {
     "data": {
      "text/plain": [
       "<AxesSubplot:xlabel='Petrol (USD)'>"
      ]
     },
     "execution_count": 7,
     "metadata": {},
     "output_type": "execute_result"
    },
    {
     "data": {
      "image/png": "[encoded data removed]",
      "text/plain": [
       "<Figure size 432x288 with 1 Axes>"
      ]
     },
     "metadata": {
      "needs_background": "light"
     },
     "output_type": "display_data"
    }
   ],
   "source": [
    "sns.boxplot(df['Petrol (USD)'])"
   ]
  },
  {
   "cell_type": "code",
   "execution_count": 8,
   "id": "e168aef1",
   "metadata": {},
   "outputs": [
    {
     "name": "stderr",
     "output_type": "stream",
     "text": [
      "C:\\Users\\RANJEET\\anaconda3\\lib\\site-packages\\seaborn\\_decorators.py:36: FutureWarning: Pass the following variables as keyword args: x, y. From version 0.12, the only valid positional argument will be `data`, and passing other arguments without an explicit keyword will result in an error or misinterpretation.\n",
      "  warnings.warn(\n"
     ]
    },
    {
     "data": {
      "text/plain": [
       "<AxesSubplot:xlabel='Date', ylabel='Petrol (USD)'>"
      ]
     },
     "execution_count": 8,
     "metadata": {},
     "output_type": "execute_result"
    },
    {
     "data": {
      "image/png": "[encoded data removed]",
      "text/plain": [
       "<Figure size 432x288 with 1 Axes>"
      ]
     },
     "metadata": {
      "needs_background": "light"
     },
     "output_type": "display_data"
    }
   ],
   "source": [
    "sns.scatterplot(df['Date'],df['Petrol (USD)'])"
   ]
  },
  {
   "cell_type": "code",
   "execution_count": 9,
   "id": "522ad9dd",
   "metadata": {},
   "outputs": [],
   "source": [
    "x=df.drop('Petrol (USD)', axis='columns')"
   ]
  },
  {
   "cell_type": "code",
   "execution_count": 10,
   "id": "e0284145",
   "metadata": {},
   "outputs": [],
   "source": [
    "y=df.drop('Date',axis='columns')"
   ]
  },
  {
   "cell_type": "code",
   "execution_count": 11,
   "id": "e56ff023",
   "metadata": {},
   "outputs": [
    {
     "data": {
      "text/html": [
       "<div>\n",
       "<style scoped>\n",
       "    .dataframe tbody tr th:only-of-type {\n",
       "        vertical-align: middle;\n",
       "    }\n",
       "\n",
       "    .dataframe tbody tr th {\n",
       "        vertical-align: top;\n",
       "    }\n",
       "\n",
       "    .dataframe thead th {\n",
       "        text-align: right;\n",
       "    }\n",
       "</style>\n",
       "<table border=\"1\" class=\"dataframe\">\n",
       "  <thead>\n",
       "    <tr style=\"text-align: right;\">\n",
       "      <th></th>\n",
       "      <th>Date</th>\n",
       "    </tr>\n",
       "  </thead>\n",
       "  <tbody>\n",
       "    <tr>\n",
       "      <th>0</th>\n",
       "      <td>2003-06-09</td>\n",
       "    </tr>\n",
       "    <tr>\n",
       "      <th>1</th>\n",
       "      <td>2003-06-16</td>\n",
       "    </tr>\n",
       "    <tr>\n",
       "      <th>2</th>\n",
       "      <td>2003-06-23</td>\n",
       "    </tr>\n",
       "    <tr>\n",
       "      <th>3</th>\n",
       "      <td>2003-06-30</td>\n",
       "    </tr>\n",
       "    <tr>\n",
       "      <th>4</th>\n",
       "      <td>2003-07-07</td>\n",
       "    </tr>\n",
       "    <tr>\n",
       "      <th>...</th>\n",
       "      <td>...</td>\n",
       "    </tr>\n",
       "    <tr>\n",
       "      <th>808</th>\n",
       "      <td>2018-12-03</td>\n",
       "    </tr>\n",
       "    <tr>\n",
       "      <th>809</th>\n",
       "      <td>2018-12-10</td>\n",
       "    </tr>\n",
       "    <tr>\n",
       "      <th>810</th>\n",
       "      <td>2018-12-17</td>\n",
       "    </tr>\n",
       "    <tr>\n",
       "      <th>811</th>\n",
       "      <td>2018-12-24</td>\n",
       "    </tr>\n",
       "    <tr>\n",
       "      <th>812</th>\n",
       "      <td>2018-12-31</td>\n",
       "    </tr>\n",
       "  </tbody>\n",
       "</table>\n",
       "<p>803 rows × 1 columns</p>\n",
       "</div>"
      ],
      "text/plain": [
       "          Date\n",
       "0   2003-06-09\n",
       "1   2003-06-16\n",
       "2   2003-06-23\n",
       "3   2003-06-30\n",
       "4   2003-07-07\n",
       "..         ...\n",
       "808 2018-12-03\n",
       "809 2018-12-10\n",
       "810 2018-12-17\n",
       "811 2018-12-24\n",
       "812 2018-12-31\n",
       "\n",
       "[803 rows x 1 columns]"
      ]
     },
     "execution_count": 11,
     "metadata": {},
     "output_type": "execute_result"
    }
   ],
   "source": [
    "x"
   ]
  },
  {
   "cell_type": "code",
   "execution_count": 12,
   "id": "2f8f521a",
   "metadata": {},
   "outputs": [
    {
     "data": {
      "text/html": [
       "<div>\n",
       "<style scoped>\n",
       "    .dataframe tbody tr th:only-of-type {\n",
       "        vertical-align: middle;\n",
       "    }\n",
       "\n",
       "    .dataframe tbody tr th {\n",
       "        vertical-align: top;\n",
       "    }\n",
       "\n",
       "    .dataframe thead th {\n",
       "        text-align: right;\n",
       "    }\n",
       "</style>\n",
       "<table border=\"1\" class=\"dataframe\">\n",
       "  <thead>\n",
       "    <tr style=\"text-align: right;\">\n",
       "      <th></th>\n",
       "      <th>Petrol (USD)</th>\n",
       "    </tr>\n",
       "  </thead>\n",
       "  <tbody>\n",
       "    <tr>\n",
       "      <th>0</th>\n",
       "      <td>74.59</td>\n",
       "    </tr>\n",
       "    <tr>\n",
       "      <th>1</th>\n",
       "      <td>74.47</td>\n",
       "    </tr>\n",
       "    <tr>\n",
       "      <th>2</th>\n",
       "      <td>74.42</td>\n",
       "    </tr>\n",
       "    <tr>\n",
       "      <th>3</th>\n",
       "      <td>74.35</td>\n",
       "    </tr>\n",
       "    <tr>\n",
       "      <th>4</th>\n",
       "      <td>74.28</td>\n",
       "    </tr>\n",
       "    <tr>\n",
       "      <th>...</th>\n",
       "      <td>...</td>\n",
       "    </tr>\n",
       "    <tr>\n",
       "      <th>808</th>\n",
       "      <td>124.30</td>\n",
       "    </tr>\n",
       "    <tr>\n",
       "      <th>809</th>\n",
       "      <td>122.37</td>\n",
       "    </tr>\n",
       "    <tr>\n",
       "      <th>810</th>\n",
       "      <td>121.02</td>\n",
       "    </tr>\n",
       "    <tr>\n",
       "      <th>811</th>\n",
       "      <td>120.61</td>\n",
       "    </tr>\n",
       "    <tr>\n",
       "      <th>812</th>\n",
       "      <td>120.18</td>\n",
       "    </tr>\n",
       "  </tbody>\n",
       "</table>\n",
       "<p>803 rows × 1 columns</p>\n",
       "</div>"
      ],
      "text/plain": [
       "     Petrol (USD)\n",
       "0           74.59\n",
       "1           74.47\n",
       "2           74.42\n",
       "3           74.35\n",
       "4           74.28\n",
       "..            ...\n",
       "808        124.30\n",
       "809        122.37\n",
       "810        121.02\n",
       "811        120.61\n",
       "812        120.18\n",
       "\n",
       "[803 rows x 1 columns]"
      ]
     },
     "execution_count": 12,
     "metadata": {},
     "output_type": "execute_result"
    }
   ],
   "source": [
    "y"
   ]
  },
  {
   "cell_type": "code",
   "execution_count": 13,
   "id": "0fc36c69",
   "metadata": {},
   "outputs": [],
   "source": [
    "x_train,x_test,y_train,y_test=train_test_split(x,y,test_size=.20,random_state=10)"
   ]
  },
  {
   "cell_type": "code",
   "execution_count": 14,
   "id": "d4e7a06b",
   "metadata": {},
   "outputs": [
    {
     "name": "stdout",
     "output_type": "stream",
     "text": [
      "(642, 1)\n",
      "(161, 1)\n",
      "(642, 1)\n",
      "(161, 1)\n"
     ]
    }
   ],
   "source": [
    "print(x_train.shape)\n",
    "print(x_test.shape)\n",
    "print(y_train.shape)\n",
    "print(y_test.shape)"
   ]
  },
  {
   "cell_type": "code",
   "execution_count": 15,
   "id": "589fd6b6",
   "metadata": {},
   "outputs": [],
   "source": [
    "ss=StandardScaler()"
   ]
  },
  {
   "cell_type": "code",
   "execution_count": 16,
   "id": "1d05cf2e",
   "metadata": {},
   "outputs": [],
   "source": [
    "x_train=ss.fit_transform(x_train)"
   ]
  },
  {
   "cell_type": "code",
   "execution_count": 17,
   "id": "32e755ab",
   "metadata": {},
   "outputs": [],
   "source": [
    "x_test=ss.transform(x_test)"
   ]
  },
  {
   "cell_type": "code",
   "execution_count": 18,
   "id": "a17c4aee",
   "metadata": {},
   "outputs": [],
   "source": [
    "import joblib\n",
    "joblib.dump(ss,open('opp.pkl','wb'))"
   ]
  },
  {
   "cell_type": "code",
   "execution_count": 19,
   "id": "4320f63d",
   "metadata": {},
   "outputs": [
    {
     "data": {
      "text/plain": [
       "array([[-1.00263892],\n",
       "       [-0.76784847],\n",
       "       [ 0.58219661],\n",
       "       [-0.65045325],\n",
       "       [-0.40308474],\n",
       "       [-0.11378937],\n",
       "       [-0.26891877],\n",
       "       [ 0.71636258],\n",
       "       [ 1.04758482],\n",
       "       [ 0.59477467],\n",
       "       [ 1.41234856],\n",
       "       [-0.52467265],\n",
       "       [-0.69238012],\n",
       "       [-0.54982877],\n",
       "       [-1.20388788],\n",
       "       [ 0.70797721],\n",
       "       [ 0.93438228],\n",
       "       [-0.87266564],\n",
       "       [-0.89362907],\n",
       "       [ 0.65347228],\n",
       "       [ 0.69120646],\n",
       "       [ 1.60940483],\n",
       "       [-0.11798205],\n",
       "       [-0.34438713],\n",
       "       [-1.1032634 ],\n",
       "       [-1.60219311],\n",
       "       [ 1.09789706],\n",
       "       [-0.76365579],\n",
       "       [ 0.5863893 ],\n",
       "       [-1.32547579],\n",
       "       [-0.10121131],\n",
       "       [ 1.40396318],\n",
       "       [-0.96490474],\n",
       "       [-0.44920429],\n",
       "       [-0.91039982],\n",
       "       [ 0.86310661],\n",
       "       [-0.23537728],\n",
       "       [ 0.28032318],\n",
       "       [ 1.33268751],\n",
       "       [-1.53511012],\n",
       "       [-1.27516355],\n",
       "       [ 0.38933303],\n",
       "       [ 0.91341885],\n",
       "       [-1.49737594],\n",
       "       [ 1.29076065],\n",
       "       [-1.52672475],\n",
       "       [-0.41985549],\n",
       "       [-0.53725071],\n",
       "       [ 0.50672825],\n",
       "       [ 0.38514034],\n",
       "       [ 0.4606087 ],\n",
       "       [ 1.23206303],\n",
       "       [ 1.26141184],\n",
       "       [ 0.523499  ],\n",
       "       [ 0.34740616],\n",
       "       [ 0.51511362],\n",
       "       [ 1.35784363],\n",
       "       [-0.1976431 ],\n",
       "       [ 0.40191109],\n",
       "       [-0.27730414],\n",
       "       [-0.60852638],\n",
       "       [-0.81396803],\n",
       "       [-0.42824086],\n",
       "       [-0.39469937],\n",
       "       [-1.43029296],\n",
       "       [-1.18711713],\n",
       "       [-1.5728443 ],\n",
       "       [ 0.87987736],\n",
       "       [-0.73430698],\n",
       "       [-0.21441384],\n",
       "       [ 1.31172408],\n",
       "       [ 1.30333871],\n",
       "       [ 1.09370438],\n",
       "       [-0.2269919 ],\n",
       "       [ 0.45222333],\n",
       "       [ 0.82537243],\n",
       "       [ 0.37256228],\n",
       "       [ 0.34321347],\n",
       "       [-0.59175564],\n",
       "       [-0.43243355],\n",
       "       [ 1.54651453],\n",
       "       [ 1.36203632],\n",
       "       [ 0.78344557],\n",
       "       [-1.44646475],\n",
       "       [-1.3548246 ],\n",
       "       [-0.50790191],\n",
       "       [-0.34857981],\n",
       "       [ 1.6806805 ],\n",
       "       [-0.46178235],\n",
       "       [-0.93974863],\n",
       "       [ 0.15873526],\n",
       "       [-0.41147011],\n",
       "       [-1.06133654],\n",
       "       [ 0.70378452],\n",
       "       [ 0.98469452],\n",
       "       [ 1.56747796],\n",
       "       [ 1.4291193 ],\n",
       "       [-1.06552922],\n",
       "       [-0.68399474],\n",
       "       [-0.44501161],\n",
       "       [ 0.19646944],\n",
       "       [ 0.9301896 ],\n",
       "       [-0.6043337 ],\n",
       "       [-0.60014101],\n",
       "       [-0.05509175],\n",
       "       [-0.07605519],\n",
       "       [ 1.14401661],\n",
       "       [-0.72172892],\n",
       "       [ 0.04972541],\n",
       "       [-1.58542236],\n",
       "       [-1.12841952],\n",
       "       [ 0.18808407],\n",
       "       [ 0.15034989],\n",
       "       [-0.89782176],\n",
       "       [-0.14733086],\n",
       "       [-1.15776833],\n",
       "       [ 0.85472124],\n",
       "       [ 0.35159885],\n",
       "       [-0.29826758],\n",
       "       [ 0.88826273],\n",
       "       [-0.88943639],\n",
       "       [ 0.90922617],\n",
       "       [-0.9774828 ],\n",
       "       [-1.31709042],\n",
       "       [-0.50370922],\n",
       "       [-1.47641251],\n",
       "       [ 0.98050184],\n",
       "       [-0.15990892],\n",
       "       [ 1.61359751],\n",
       "       [-0.31923101],\n",
       "       [ 1.01823602],\n",
       "       [ 0.80860169],\n",
       "       [-1.11584146],\n",
       "       [-0.67560937],\n",
       "       [ 0.98888721],\n",
       "       [-1.01940967],\n",
       "       [ 0.33063541],\n",
       "       [-1.22485131],\n",
       "       [-0.0089722 ],\n",
       "       [ 1.4626608 ],\n",
       "       [ 0.77925288],\n",
       "       [ 0.69959184],\n",
       "       [-0.13056011],\n",
       "       [ 0.97630915],\n",
       "       [-0.02574295],\n",
       "       [ 1.51297304],\n",
       "       [-0.5414434 ],\n",
       "       [-1.55188087],\n",
       "       [-0.98586818],\n",
       "       [-0.90201445],\n",
       "       [ 0.92180423],\n",
       "       [ 0.7415187 ],\n",
       "       [-1.2919343 ],\n",
       "       [ 1.20271423],\n",
       "       [-1.37578803],\n",
       "       [-1.66508341],\n",
       "       [-1.35901729],\n",
       "       [-0.84750952],\n",
       "       [ 1.31591677],\n",
       "       [-1.04456579],\n",
       "       [-0.12636742]])"
      ]
     },
     "execution_count": 19,
     "metadata": {},
     "output_type": "execute_result"
    }
   ],
   "source": [
    "x_test"
   ]
  },
  {
   "cell_type": "code",
   "execution_count": 20,
   "id": "b3730c99",
   "metadata": {},
   "outputs": [],
   "source": [
    "lr=LinearRegression()"
   ]
  },
  {
   "cell_type": "code",
   "execution_count": 21,
   "id": "972b3068",
   "metadata": {},
   "outputs": [
    {
     "data": {
      "text/plain": [
       "LinearRegression()"
      ]
     },
     "execution_count": 21,
     "metadata": {},
     "output_type": "execute_result"
    }
   ],
   "source": [
    "lr.fit(x_train,y_train)"
   ]
  },
  {
   "cell_type": "code",
   "execution_count": 22,
   "id": "602e9b19",
   "metadata": {},
   "outputs": [],
   "source": [
    "reg_pred=lr.predict(x_test)"
   ]
  },
  {
   "cell_type": "code",
   "execution_count": 23,
   "id": "4d4b2196",
   "metadata": {},
   "outputs": [],
   "source": [
    "residual=y_test-reg_pred"
   ]
  },
  {
   "cell_type": "code",
   "execution_count": 24,
   "id": "b52a4ab2",
   "metadata": {},
   "outputs": [
    {
     "data": {
      "text/html": [
       "<div>\n",
       "<style scoped>\n",
       "    .dataframe tbody tr th:only-of-type {\n",
       "        vertical-align: middle;\n",
       "    }\n",
       "\n",
       "    .dataframe tbody tr th {\n",
       "        vertical-align: top;\n",
       "    }\n",
       "\n",
       "    .dataframe thead th {\n",
       "        text-align: right;\n",
       "    }\n",
       "</style>\n",
       "<table border=\"1\" class=\"dataframe\">\n",
       "  <thead>\n",
       "    <tr style=\"text-align: right;\">\n",
       "      <th></th>\n",
       "      <th>Petrol (USD)</th>\n",
       "    </tr>\n",
       "  </thead>\n",
       "  <tbody>\n",
       "    <tr>\n",
       "      <th>170</th>\n",
       "      <td>-4.843143</td>\n",
       "    </tr>\n",
       "    <tr>\n",
       "      <th>226</th>\n",
       "      <td>-2.429555</td>\n",
       "    </tr>\n",
       "    <tr>\n",
       "      <th>548</th>\n",
       "      <td>12.523576</td>\n",
       "    </tr>\n",
       "    <tr>\n",
       "      <th>254</th>\n",
       "      <td>7.377239</td>\n",
       "    </tr>\n",
       "    <tr>\n",
       "      <th>313</th>\n",
       "      <td>-4.023088</td>\n",
       "    </tr>\n",
       "    <tr>\n",
       "      <th>...</th>\n",
       "      <td>...</td>\n",
       "    </tr>\n",
       "    <tr>\n",
       "      <th>85</th>\n",
       "      <td>-12.465553</td>\n",
       "    </tr>\n",
       "    <tr>\n",
       "      <th>207</th>\n",
       "      <td>-2.308094</td>\n",
       "    </tr>\n",
       "    <tr>\n",
       "      <th>723</th>\n",
       "      <td>-10.841462</td>\n",
       "    </tr>\n",
       "    <tr>\n",
       "      <th>160</th>\n",
       "      <td>-0.473426</td>\n",
       "    </tr>\n",
       "    <tr>\n",
       "      <th>379</th>\n",
       "      <td>6.220784</td>\n",
       "    </tr>\n",
       "  </tbody>\n",
       "</table>\n",
       "<p>161 rows × 1 columns</p>\n",
       "</div>"
      ],
      "text/plain": [
       "     Petrol (USD)\n",
       "170     -4.843143\n",
       "226     -2.429555\n",
       "548     12.523576\n",
       "254      7.377239\n",
       "313     -4.023088\n",
       "..            ...\n",
       "85     -12.465553\n",
       "207     -2.308094\n",
       "723    -10.841462\n",
       "160     -0.473426\n",
       "379      6.220784\n",
       "\n",
       "[161 rows x 1 columns]"
      ]
     },
     "execution_count": 24,
     "metadata": {},
     "output_type": "execute_result"
    }
   ],
   "source": [
    "residual"
   ]
  },
  {
   "cell_type": "code",
   "execution_count": 25,
   "id": "ebc7d24e",
   "metadata": {},
   "outputs": [],
   "source": [
    "score=r2_score(y_test,reg_pred)"
   ]
  },
  {
   "cell_type": "code",
   "execution_count": 26,
   "id": "164c8a4f",
   "metadata": {},
   "outputs": [
    {
     "data": {
      "text/plain": [
       "0.5451287445635643"
      ]
     },
     "execution_count": 26,
     "metadata": {},
     "output_type": "execute_result"
    }
   ],
   "source": [
    "score"
   ]
  },
  {
   "cell_type": "code",
   "execution_count": 27,
   "id": "d2d5221d",
   "metadata": {},
   "outputs": [],
   "source": [
    "test_data=pd.read_csv(r'G:\\DATA_SCIENCE\\EDA\\Dataset\\ongc oil and energy\\test_data.csv')"
   ]
  },
  {
   "cell_type": "code",
   "execution_count": 28,
   "id": "4823fde9",
   "metadata": {},
   "outputs": [],
   "source": [
    "test_data=test_data.drop('Prediction',axis='columns')"
   ]
  },
  {
   "cell_type": "code",
   "execution_count": 29,
   "id": "21f14b18",
   "metadata": {},
   "outputs": [],
   "source": [
    "test_data['Date']=test_data['Date'].astype('datetime64')"
   ]
  },
  {
   "cell_type": "code",
   "execution_count": 30,
   "id": "6c2903e0",
   "metadata": {},
   "outputs": [],
   "source": [
    "value=ss.transform(test_data)"
   ]
  },
  {
   "cell_type": "code",
   "execution_count": 31,
   "id": "6b664b33",
   "metadata": {},
   "outputs": [
    {
     "data": {
      "text/plain": [
       "array([[133.54921988],\n",
       "       [133.55750155],\n",
       "       [133.56578321],\n",
       "       [133.57406487],\n",
       "       [133.58234654],\n",
       "       [133.5906282 ],\n",
       "       [133.59890986],\n",
       "       [133.60719153],\n",
       "       [133.61547319],\n",
       "       [133.62375485],\n",
       "       [133.63203652],\n",
       "       [133.64031818],\n",
       "       [136.57202702],\n",
       "       [136.58030869],\n",
       "       [136.58859035],\n",
       "       [136.59687201]])"
      ]
     },
     "execution_count": 31,
     "metadata": {},
     "output_type": "execute_result"
    }
   ],
   "source": [
    "lr.predict(value)"
   ]
  },
  {
   "cell_type": "code",
   "execution_count": 32,
   "id": "8b5db5c2",
   "metadata": {},
   "outputs": [
    {
     "data": {
      "text/plain": [
       "<seaborn.axisgrid.FacetGrid at 0x185b7f1f9a0>"
      ]
     },
     "execution_count": 32,
     "metadata": {},
     "output_type": "execute_result"
    },
    {
     "data": {
      "image/png": "[encoded data removed]",
      "text/plain": [
       "<Figure size 456.625x360 with 1 Axes>"
      ]
     },
     "metadata": {
      "needs_background": "light"
     },
     "output_type": "display_data"
    }
   ],
   "source": [
    "sns.displot(reg_pred-y_test,kind='kde')"
   ]
  },
  {
   "cell_type": "code",
   "execution_count": 33,
   "id": "724bc154",
   "metadata": {},
   "outputs": [],
   "source": [
    "score=r2_score(y_test,reg_pred)"
   ]
  },
  {
   "cell_type": "code",
   "execution_count": 34,
   "id": "c2597aad",
   "metadata": {},
   "outputs": [
    {
     "data": {
      "text/plain": [
       "0.5451287445635643"
      ]
     },
     "execution_count": 34,
     "metadata": {},
     "output_type": "execute_result"
    }
   ],
   "source": [
    "score"
   ]
  },
  {
   "cell_type": "code",
   "execution_count": 35,
   "id": "7ec24834",
   "metadata": {},
   "outputs": [],
   "source": [
    "import joblib"
   ]
  },
  {
   "cell_type": "code",
   "execution_count": 36,
   "id": "44b00a30",
   "metadata": {},
   "outputs": [
    {
     "data": {
      "text/plain": [
       "['Oil_Price_Prediction.pkl']"
      ]
     },
     "execution_count": 36,
     "metadata": {},
     "output_type": "execute_result"
    }
   ],
   "source": [
    "joblib.dump(lr,\"Oil_Price_Prediction.pkl\")"
   ]
  },
  {
   "cell_type": "code",
   "execution_count": 37,
   "id": "a04870dc",
   "metadata": {},
   "outputs": [],
   "source": [
    "model=joblib.load(\"Oil_Price_Prediction.pkl\")"
   ]
  },
  {
   "cell_type": "code",
   "execution_count": 38,
   "id": "7f5cc10c",
   "metadata": {},
   "outputs": [
    {
     "data": {
      "text/plain": [
       "array([[133.54921988],\n",
       "       [133.55750155],\n",
       "       [133.56578321],\n",
       "       [133.57406487],\n",
       "       [133.58234654],\n",
       "       [133.5906282 ],\n",
       "       [133.59890986],\n",
       "       [133.60719153],\n",
       "       [133.61547319],\n",
       "       [133.62375485],\n",
       "       [133.63203652],\n",
       "       [133.64031818],\n",
       "       [136.57202702],\n",
       "       [136.58030869],\n",
       "       [136.58859035],\n",
       "       [136.59687201]])"
      ]
     },
     "execution_count": 38,
     "metadata": {},
     "output_type": "execute_result"
    }
   ],
   "source": [
    "model.predict(value)"
   ]
  },
  {
   "cell_type": "code",
   "execution_count": 46,
   "id": "c9cd3879",
   "metadata": {},
   "outputs": [],
   "source": [
    "a='1/12/2022'"
   ]
  },
  {
   "cell_type": "code",
   "execution_count": 47,
   "id": "4d60500c",
   "metadata": {},
   "outputs": [],
   "source": [
    "df2=pd.DataFrame([a],columns=['Date1'])"
   ]
  },
  {
   "cell_type": "code",
   "execution_count": 48,
   "id": "d82e1487",
   "metadata": {},
   "outputs": [
    {
     "data": {
      "text/html": [
       "<div>\n",
       "<style scoped>\n",
       "    .dataframe tbody tr th:only-of-type {\n",
       "        vertical-align: middle;\n",
       "    }\n",
       "\n",
       "    .dataframe tbody tr th {\n",
       "        vertical-align: top;\n",
       "    }\n",
       "\n",
       "    .dataframe thead th {\n",
       "        text-align: right;\n",
       "    }\n",
       "</style>\n",
       "<table border=\"1\" class=\"dataframe\">\n",
       "  <thead>\n",
       "    <tr style=\"text-align: right;\">\n",
       "      <th></th>\n",
       "      <th>Date1</th>\n",
       "    </tr>\n",
       "  </thead>\n",
       "  <tbody>\n",
       "    <tr>\n",
       "      <th>0</th>\n",
       "      <td>1/12/2022</td>\n",
       "    </tr>\n",
       "  </tbody>\n",
       "</table>\n",
       "</div>"
      ],
      "text/plain": [
       "       Date1\n",
       "0  1/12/2022"
      ]
     },
     "execution_count": 48,
     "metadata": {},
     "output_type": "execute_result"
    }
   ],
   "source": [
    "df2"
   ]
  },
  {
   "cell_type": "code",
   "execution_count": 50,
   "id": "02ee3116",
   "metadata": {},
   "outputs": [],
   "source": [
    "df3=df2['Date1'].astype('datetime64')"
   ]
  },
  {
   "cell_type": "code",
   "execution_count": 51,
   "id": "38e8ff87",
   "metadata": {},
   "outputs": [
    {
     "name": "stderr",
     "output_type": "stream",
     "text": [
      "C:\\Users\\RANJEET\\anaconda3\\lib\\site-packages\\sklearn\\base.py:450: UserWarning: X does not have valid feature names, but StandardScaler was fitted with feature names\n",
      "  warnings.warn(\n"
     ]
    }
   ],
   "source": [
    "value=ss.transform([df3])"
   ]
  },
  {
   "cell_type": "code",
   "execution_count": 52,
   "id": "b45d9860",
   "metadata": {},
   "outputs": [
    {
     "data": {
      "text/plain": [
       "array([[142.71702126]])"
      ]
     },
     "execution_count": 52,
     "metadata": {},
     "output_type": "execute_result"
    }
   ],
   "source": [
    "lr.predict(value)"
   ]
  },
  {
   "cell_type": "code",
   "execution_count": 53,
   "id": "577bd85f",
   "metadata": {},
   "outputs": [
    {
     "data": {
      "text/plain": [
       "142.7170212610328"
      ]
     },
     "execution_count": 53,
     "metadata": {},
     "output_type": "execute_result"
    }
   ],
   "source": [
    "model.predict(value)[0][0]"
   ]
  },
  {
   "cell_type": "code",
   "execution_count": null,
   "id": "b0f34fa6",
   "metadata": {},
   "outputs": [],
   "source": []
  },
  {
   "cell_type": "code",
   "execution_count": null,
   "id": "c5c4d251",
   "metadata": {},
   "outputs": [],
   "source": []
  }
 ],
 "metadata": {
  "kernelspec": {
   "display_name": "Python 3 (ipykernel)",
   "language": "python",
   "name": "python3"
  },
  "language_info": {
   "codemirror_mode": {
    "name": "ipython",
    "version": 3
   },
   "file_extension": ".py",
   "mimetype": "text/x-python",
   "name": "python",
   "nbconvert_exporter": "python",
   "pygments_lexer": "ipython3",
   "version": "3.9.12"
  },
  "vscode": {
   "interpreter": {
    "hash": "2450c1443077b275d8b3fe796aa7261dd54b7a2d9381cbc95a7264cccfcbd7bf"
   }
  }
 },
 "nbformat": 4,
 "nbformat_minor": 5
}
